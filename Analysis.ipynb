{
 "cells": [
  {
   "cell_type": "code",
   "execution_count": 2,
   "id": "corporate-conclusion",
   "metadata": {},
   "outputs": [],
   "source": [
    "# Library Imports\n",
    "import csv\n",
    "import random\n",
    "import pandas as pd\n",
    "import time\n",
    "from itertools import islice\n",
    "from enum import Enum\n",
    "import json\n"
   ]
  },
  {
   "cell_type": "code",
   "execution_count": 17,
   "id": "committed-bicycle",
   "metadata": {},
   "outputs": [],
   "source": [
    "# Previous Lotto Records into Lists\n",
    "wedLotto = pd.read_csv('csv/Crawled_MonWed.csv')\n",
    "satLotto = pd.read_csv('csv/Crawled_Sat.csv')\n",
    "\n",
    "# Remove ProductID\n",
    "wedLotto = pd.DataFrame(wedLotto)\n",
    "satLotto = pd.DataFrame(satLotto)"
   ]
  },
  {
   "cell_type": "code",
   "execution_count": 26,
   "id": "sorted-wisconsin",
   "metadata": {},
   "outputs": [],
   "source": [
    "# Go through the previous draws and mark the relations between numbers\n",
    "wedRelations = {}\n",
    "satRelations = {}\n",
    "\n",
    "# Conver string representation of list into list\n",
    "def strList_to_list(strList: str) -> list:\n",
    "    ret_list = []\n",
    "    try:\n",
    "        ret_list = json.loads(strList)\n",
    "        return ret_list\n",
    "    except:\n",
    "        print(\"strList to List Failed: \", strList)\n",
    "        return []\n",
    "\n",
    "# list, set, dict are mutable -> pass by reference (if not reassign)\n",
    "# ig. relationSetter(wedRelations, wedLotto)\n",
    "def relationSetter(relations, prev_draws) -> dict:\n",
    "    # String List to Int List\n",
    "    for _, draw in prev_draws.iterrows():\n",
    "        try:\n",
    "            drawnTicket = strList_to_list(draw['PrimaryNumbers']) + strList_to_list(draw['SecondaryNumbers'])\n",
    "        except:\n",
    "            print('relationSetter Concat Failed')\n",
    "            continue\n",
    "            \n",
    "            \n",
    "        for num in drawnTicket:\n",
    "            if num not in relations:\n",
    "                relations[num] = {}\n",
    "                relations[num]['reps'] = 0\n",
    "                \n",
    "            for numNum in drawnTicket:\n",
    "                if num != numNum: # Not repeating myself\n",
    "                    if numNum not in relations[num]:\n",
    "                        relations[num][numNum] = 0\n",
    "                    else:\n",
    "                        relations[num][numNum] += 1\n",
    "            relations[num]['reps'] += 1"
   ]
  },
  {
   "cell_type": "code",
   "execution_count": 27,
   "id": "attempted-developer",
   "metadata": {},
   "outputs": [],
   "source": [
    "# Get relation between the numbers\n",
    "relationSetter(wedRelations, wedLotto)\n",
    "relationSetter(satRelations, satLotto)"
   ]
  },
  {
   "cell_type": "code",
   "execution_count": 28,
   "id": "approximate-casting",
   "metadata": {},
   "outputs": [],
   "source": [
    "df_wed = pd.DataFrame.from_dict(wedRelations)\n",
    "df_sat = pd.DataFrame.from_dict(satRelations)"
   ]
  },
  {
   "cell_type": "code",
   "execution_count": 29,
   "id": "falling-airplane",
   "metadata": {},
   "outputs": [],
   "source": [
    "# Retriev relations with other nums\n",
    "def get_corr_nums(data):\n",
    "    # Default Setup for Return Dictionary\n",
    "    ret_data = {}\n",
    "    ret_data['nums'] = {}\n",
    "    ret_data['reps'] = data['reps']\n",
    "    \n",
    "    # Sort by repetitions of each num\n",
    "    data.pop('reps')\n",
    "    sorted_data = data.sort_values(ascending = False)\n",
    "    # For threshold \n",
    "    overall_data_mean = sorted_data.mean()\n",
    "    \n",
    "    # Get corr_nums from sorted_data\n",
    "    for key, value in sorted_data.items():\n",
    "        ret_data['nums'][key] = value\n",
    "    \n",
    "    # Set basic info for the chosen corr_nums\n",
    "    ret_data['overall_mean'] = round(overall_data_mean, 2)\n",
    "     \n",
    "    return ret_data"
   ]
  },
  {
   "cell_type": "code",
   "execution_count": 30,
   "id": "satellite-shoot",
   "metadata": {},
   "outputs": [],
   "source": [
    "# get Relations per each num into DataFrame\n",
    "df_wed_corrNums = {}\n",
    "df_sat_corrNums = {}\n",
    "\n",
    "for num in range(1, 46):\n",
    "    df_wed_corrNums[num] = get_corr_nums(df_wed.get(num))\n",
    "    \n",
    "for num in range(1, 46):\n",
    "    df_sat_corrNums[num] = get_corr_nums(df_sat.get(num))\n",
    "    "
   ]
  },
  {
   "cell_type": "code",
   "execution_count": 31,
   "id": "super-enterprise",
   "metadata": {},
   "outputs": [],
   "source": [
    "# 1 game = 1 ticket with 8 numbers\n",
    "# 1 play = n games\n",
    "\n",
    "def random_picker(value):\n",
    "    return random.choice([x for x in range(1,46) if x != value])\n",
    "\n",
    "# pref_start_num = given Starting number\n",
    "def ticket_generator(corr_data, \n",
    "                     threshold, \n",
    "                     n_top_nums = 5,\n",
    "                     pref_start_num = None) -> dict:\n",
    "    \n",
    "    ticket = {}\n",
    "    one_ticket_length = 8\n",
    "    perc_sum = 0\n",
    "    \n",
    "    # 1. Choose one number randomly\n",
    "    chosen_num_perc = 0\n",
    "    chosen_num = pref_start_num if pref_start_num != None else random_picker(0)\n",
    "    ticket['ticket'] = [chosen_num] \n",
    "    \n",
    "    # 1.1 Slicing for the first num\n",
    "    # Prevent setting n_top_nums to be 0\n",
    "    n_nums = max(1, n_top_nums)\n",
    "    isValidNum = True if corr_data.get(chosen_num, None) != None else False\n",
    "\n",
    "    # Guard Count to Avoid infinte loop\n",
    "    guardCount = 0\n",
    "    \n",
    "    # 2. Pick Follow Nums in the ticket\n",
    "    while(len(ticket['ticket']) < one_ticket_length):\n",
    "        guardCount += 1\n",
    "        # Get valid Num      \n",
    "        while not isValidNum or guardCount > 40:\n",
    "            chosen_num = random_picker(chosen_num)\n",
    "            chosen_num_perc = 0\n",
    "            if corr_data.get(chosen_num, None) != None:\n",
    "                isValidNum = True\n",
    "                guardCount = 0\n",
    "                       \n",
    "        # Has valid chosen_num -> slice\n",
    "        chosen_num_data = corr_data[chosen_num]\n",
    "        num_slices = n_nums if guardCount < 10 else n_nums + guardCount // 10\n",
    "        slice_len = min(n_nums, len(chosen_num_data['nums']))\n",
    "        available_nums = islice(chosen_num_data['nums'].items(), slice_len)\n",
    "        \n",
    "        # Check if new before append the chosen Num\n",
    "        if chosen_num not in ticket['ticket']:\n",
    "            ticket['ticket'].append(chosen_num)\n",
    "            perc_sum += chosen_num_perc\n",
    "            guardCount = 0\n",
    "            # print(chosen_num_item, chosen_num_perc, perc_sum)\n",
    "            \n",
    "        # Get new chosen_num\n",
    "        chosen_num_item = random.choice(list(available_nums))\n",
    "        chosen_num = chosen_num_item[0]\n",
    "        chosen_num_perc = round ((chosen_num_item[1] / chosen_num_data['overall_mean'])*100 - 100, 2)\n",
    "\n",
    "    # 4. Add average correlation value into the ticket\n",
    "    ticket['perc_mean'] = round(perc_sum / one_ticket_length, 2)\n",
    "    return ticket"
   ]
  },
  {
   "cell_type": "code",
   "execution_count": 32,
   "id": "focused-stroke",
   "metadata": {},
   "outputs": [],
   "source": [
    "# Classes - Different Lottery has diff rules\n",
    "\n",
    "# Lottery\n",
    "class Lotto(Enum):\n",
    "    WED = 'MonWedLotto'\n",
    "    SAT = 'TattsLotto'\n",
    "\n",
    "class Division(Enum):\n",
    "    first = \"First\"\n",
    "    second = \"Second\"\n",
    "    third = \"Third\"\n",
    "    fourth = \"Fourth\"\n",
    "    fifth = \"Fifth\"\n",
    "    sixth = \"Sixth\"\n",
    "    error = \"error\""
   ]
  },
  {
   "cell_type": "code",
   "execution_count": 33,
   "id": "wireless-neutral",
   "metadata": {},
   "outputs": [],
   "source": [
    "# Division Calculator - per each ticket\n",
    "# lotto - Lotto Class\n",
    "# Draw - Winning Numbers\n",
    "def division_calculator(lotto, draw, ticket):\n",
    "    if lotto == Lotto.WED:\n",
    "        return wed_division_calculator(draw, ticket)\n",
    "    else:\n",
    "        return sat_division_calculator(draw, ticket)\n",
    "    \n",
    "def wed_division_calculator(draw, ticket) -> str:\n",
    "    winning_match = 0\n",
    "    supp_match = 0\n",
    "    \n",
    "    # theta(n^2) = 8^2 = 64 per game => Can be seen as O(1)\n",
    "    # Count Matches\n",
    "    for index, draw_num in enumerate(draw):\n",
    "        for ticket_num in ticket:\n",
    "            if ticket_num == draw_num:\n",
    "                if index > 5:\n",
    "                    supp_match += 1\n",
    "                else:\n",
    "                    winning_match += 1\n",
    "    \n",
    "    # Division Calc\n",
    "    # 1. 6 winnings 2. 5 winnings + 1 supp 3. 5 winnings\n",
    "    # 4. 4 winnings 5. 3 winnings + 2 supp \n",
    "    # 6. total 3 (winning 1 + 2, 2 + 1)\n",
    "    if winning_match == 6:\n",
    "        return Division.first.value\n",
    "    \n",
    "    if winning_match == 5:\n",
    "        if supp_match == 1:\n",
    "            return Division.second.value\n",
    "        else:\n",
    "            return Division.third.value\n",
    "    \n",
    "    if winning_match == 4:\n",
    "        return  Division.fourth.value\n",
    "\n",
    "    if winning_match == 3 and supp_match == 2:\n",
    "        return Division.fifth.value\n",
    "    \n",
    "    if winning_match + supp_match == 3:\n",
    "        return Division.sixth.value\n",
    "\n",
    "    return Division.error.value\n",
    "\n",
    "def sat_division_calculator(draw, ticket) -> str:\n",
    "    winning_match = 0\n",
    "    supp_match = 0\n",
    "    \n",
    "    # theta(n^2) = 8^2 = 64 per game => Can be seen as O(1)\n",
    "    # Count Matches\n",
    "    for index, draw_num in enumerate(draw):\n",
    "        for ticket_num in ticket:\n",
    "            if ticket_num == draw_num:\n",
    "                if index > 5:\n",
    "                    supp_match += 1\n",
    "                else:\n",
    "                    winning_match += 1\n",
    "    \n",
    "    # Division Calc\n",
    "    # 1. 6 winnings 2. 5 winnings + 1 supp 3. 5 winnings\n",
    "    # 4. 4 winnings 5. 3 winnings + 1 supp 6. 3 winnings\n",
    "    if winning_match == 6:\n",
    "        return Division.first.value\n",
    "    \n",
    "    if winning_match == 5:\n",
    "        if supp_match == 1:\n",
    "            return Division.second.value\n",
    "        else:\n",
    "            return Division.third.value\n",
    "    \n",
    "    if winning_match == 4:\n",
    "        return  Division.fourth.value\n",
    "\n",
    "    if winning_match == 3 and supp_match == 2:\n",
    "            return Division.fifth.value\n",
    "        \n",
    "    if winning_match == 3:\n",
    "        return Division.sixth.value\n",
    "    \n",
    "    return Division.error.value"
   ]
  },
  {
   "cell_type": "code",
   "execution_count": 34,
   "id": "coastal-alcohol",
   "metadata": {},
   "outputs": [],
   "source": [
    "# Marking your generated tickets against previous draws\n",
    "def game_marker(lotto, draw, game) -> dict:\n",
    "    game_result = {}\n",
    "    for ticket in game:\n",
    "        result = division_calculator(lotto, draw, ticket)\n",
    "        current_value = game_result.get(result, 0)\n",
    "        game_result[result] = current_value + 1\n",
    "    \n",
    "    return game_result\n",
    "\n",
    "# Game - n tickets \n",
    "def gameGenerator(game_data, num_tickets, best_n = 5, start_no = None) -> list:\n",
    "    games = []\n",
    "    for i in range (0,num_tickets):\n",
    "        games.append(ticket_generator(game_data, 0.5, best_n, start_no))\n",
    "        \n",
    "    return games"
   ]
  },
  {
   "cell_type": "code",
   "execution_count": 35,
   "id": "large-basics",
   "metadata": {},
   "outputs": [],
   "source": []
  },
  {
   "cell_type": "code",
   "execution_count": 36,
   "id": "strange-ballot",
   "metadata": {},
   "outputs": [
    {
     "data": {
      "text/plain": [
       "{'ticket': [26, 22, 13, 28, 42, 16, 39, 14], 'perc_mean': 31.71}"
      ]
     },
     "execution_count": 36,
     "metadata": {},
     "output_type": "execute_result"
    }
   ],
   "source": [
    "# Ignore 0.5 - threshold for future implemenation\n",
    "# 5 - top_n elements you want to generate from the data.\n",
    "\n",
    "ticket_generator(df_wed_corrNums, 0.5, 5)"
   ]
  },
  {
   "cell_type": "code",
   "execution_count": 37,
   "id": "local-practitioner",
   "metadata": {},
   "outputs": [
    {
     "data": {
      "text/plain": [
       "[{'ticket': [34, 4, 13, 23, 42, 40, 11, 35], 'perc_mean': 27.28},\n",
       " {'ticket': [45, 27, 32, 42, 13, 23, 22, 31], 'perc_mean': 27.12},\n",
       " {'ticket': [21, 41, 45, 27, 32, 39, 28, 22], 'perc_mean': 23.74},\n",
       " {'ticket': [37, 41, 42, 40, 11, 16, 3, 4], 'perc_mean': 30.97},\n",
       " {'ticket': [12, 33, 44, 39, 45, 24, 16, 30], 'perc_mean': 34.17},\n",
       " {'ticket': [42, 32, 30, 40, 11, 35, 19, 20], 'perc_mean': 26.75},\n",
       " {'ticket': [45, 41, 37, 38, 17, 14, 5, 8], 'perc_mean': 23.63},\n",
       " {'ticket': [26, 22, 23, 39, 13, 42, 32, 30], 'perc_mean': 28.55},\n",
       " {'ticket': [43, 30, 32, 42, 16, 3, 29, 39], 'perc_mean': 28.17},\n",
       " {'ticket': [5, 45, 41, 37, 20, 42, 14, 38], 'perc_mean': 22.75}]"
      ]
     },
     "execution_count": 37,
     "metadata": {},
     "output_type": "execute_result"
    }
   ],
   "source": [
    "# By setting None -> Random First number pick\n",
    "# Otherwise, put number in it\n",
    "gameGenerator(df_wed_corrNums, 10, 5, None)"
   ]
  },
  {
   "cell_type": "code",
   "execution_count": 38,
   "id": "pacific-despite",
   "metadata": {},
   "outputs": [],
   "source": [
    "############### Plot Generating"
   ]
  },
  {
   "cell_type": "code",
   "execution_count": 39,
   "id": "interpreted-techno",
   "metadata": {},
   "outputs": [],
   "source": [
    "# Want to provide following info: Top 10 Closely-related numbers, and mean without those 10.\n",
    "# in histogram plot with proper label.\n",
    "# Plot can be drawn by APIs (whether CSS or python) manipulating those infos.\n",
    "\n",
    "def each_num_info(num_data, n):\n",
    "    listed_data = list(num_data.items())\n",
    "    length_listed_data = len(listed_data)\n",
    "    \n",
    "    top_n_data = []\n",
    "    index_data_seg = min(n, length_listed_data)\n",
    "    for index in range(0, index_data_seg):\n",
    "        top_n_data.append(listed_data[index])\n",
    "    \n",
    "    rest_data_sum = 0\n",
    "    no_rest_data = length_listed_data - index_data_seg - 1\n",
    "    for index in range(index_data_seg, len(listed_data) - 1):\n",
    "        rest_data_sum += listed_data[index][1]\n",
    "    \n",
    "    return top_n_data, (rest_data_sum // no_rest_data, no_rest_data)\n",
    "\n",
    "\n",
    "def retrieve_plot_info(corrNums_data, n):\n",
    "    plot_dict = {}\n",
    "    \n",
    "    for num, num_data in corrNums_data.items():\n",
    "        plot_dict[num] = {}\n",
    "        n_data_list, rest_data_tuple = each_num_info(num_data['nums'], n)\n",
    "        plot_dict[num]['top_n'] = n_data_list\n",
    "        plot_dict[num]['exc_n'] = rest_data_tuple\n",
    "        plot_dict[num]['reps'] = num_data['reps'] \n",
    "        \n",
    "    return plot_dict"
   ]
  },
  {
   "cell_type": "code",
   "execution_count": 193,
   "id": "authorized-hardware",
   "metadata": {},
   "outputs": [],
   "source": [
    "# Data Generations\n",
    "\n",
    "wed_plot_data = retrieve_plot_info(df_wed_corrNums, 4)\n",
    "sat_plot_data = retrieve_plot_info(df_sat_corrNums, 4)\n",
    "df_wed_plot = pd.DataFrame(wed_plot_data)\n",
    "df_sat_plot = pd.DataFrame(sat_plot_data)\n",
    "df_wed_plot.to_csv('csv/plot_MonWed.csv', encoding='utf-8', index=False)\n",
    "df_sat_plot.to_csv('csv/plot_Sat.csv', encoding='utf-8', index=False)"
   ]
  },
  {
   "cell_type": "code",
   "execution_count": 167,
   "id": "acceptable-merit",
   "metadata": {},
   "outputs": [],
   "source": [
    "# Plot top_n vs Avg.rests in perc_mean\n",
    "\n",
    "import plotly.graph_objects as go\n",
    "import plotly.io as pio\n",
    "import os.path\n",
    "\n",
    "def plot_graph_all(data, game_name: str):\n",
    "    top_n = len(data[1]['top_n'])\n",
    "    dir_name = game_name + \"_top_\" + str(top_n) + \"_plots\"\n",
    "    file_name_template = game_name + \"_top_\" + str(top_n) + \"_for_\"\n",
    "\n",
    "    for num, data in data.items():\n",
    "        title_name = \"Top \" + str(top_n) + \" Closely-Related numbers for \" + str(num)\n",
    "        file_name = file_name_template + str(num)\n",
    "        colors = ['lightslategray',] * (top_n + 1)\n",
    "        colors[-1] = 'crimson'\n",
    "        x_no = []\n",
    "        y_reps = []\n",
    "        \n",
    "        for num_data in data['top_n']:\n",
    "            x_no.append(str(num_data[0]))\n",
    "            y_reps.append(num_data[1])\n",
    "        \n",
    "        x_no.append(\"Avg.rests\")\n",
    "        y_reps.append(data['exc_n'][0])\n",
    "        \n",
    "        fig = go.Figure(data=[go.Bar(\n",
    "            x = x_no,\n",
    "            y = y_reps,\n",
    "            marker_color=colors\n",
    "        )])\n",
    "        \n",
    "        fig.update_layout(title_text=title_name)\n",
    "        \n",
    "        if not os.path.isdir(dir_name):\n",
    "            os.mkdir(dir_name)\n",
    "            \n",
    "        pio.write_html(fig, file= dir_name + \"/\" + file_name + '.html', auto_open=False)\n",
    "            "
   ]
  },
  {
   "cell_type": "code",
   "execution_count": 192,
   "id": "exceptional-climb",
   "metadata": {},
   "outputs": [
    {
     "data": {
      "application/vnd.plotly.v1+json": {
       "config": {
        "plotlyServerURL": "https://plot.ly"
       },
       "data": [
        {
         "cells": {
          "align": "left",
          "values": [
           [
            1,
            2,
            3,
            4,
            5,
            6,
            7,
            8,
            9,
            10
           ],
           [
            41,
            42,
            4,
            21,
            3,
            37,
            12,
            21,
            26,
            26
           ],
           [
            20,
            40,
            20,
            41,
            4,
            40,
            33,
            41,
            11,
            14
           ],
           [
            30,
            8,
            16,
            42,
            38,
            8,
            30,
            42,
            40,
            5
           ],
           [
            40,
            14,
            3,
            16,
            41,
            39,
            43,
            14,
            44,
            44
           ],
           [
            11,
            37,
            23,
            40,
            42,
            28,
            24,
            8,
            39,
            39
           ],
           [
            42,
            41,
            13,
            44,
            40,
            13,
            1,
            44,
            45,
            13
           ],
           [
            32,
            45,
            42,
            39,
            8,
            14,
            39,
            16,
            41,
            40
           ],
           [
            16,
            27,
            40,
            45,
            44,
            41,
            28,
            37,
            37,
            42
           ],
           [
            "26.72 %",
            "26.57 %",
            "33.31 %",
            "27.1 %",
            "30.0 %",
            "32.13 %",
            "33.04 %",
            "22.47 %",
            "28.3 %",
            "27.88 %"
           ]
          ]
         },
         "domain": {
          "x": [
           0,
           1
          ],
          "y": [
           0,
           1
          ]
         },
         "header": {
          "align": "left",
          "font": {
           "size": 10
          },
          "values": [
           "Ticket No",
           "#1",
           "#2",
           "#3",
           "#4",
           "#5",
           "#6",
           "#7",
           "#8",
           "perc_mean"
          ]
         },
         "type": "table"
        }
       ],
       "layout": {
        "height": 600,
        "showlegend": false,
        "template": {
         "data": {
          "bar": [
           {
            "error_x": {
             "color": "#2a3f5f"
            },
            "error_y": {
             "color": "#2a3f5f"
            },
            "marker": {
             "line": {
              "color": "#E5ECF6",
              "width": 0.5
             }
            },
            "type": "bar"
           }
          ],
          "barpolar": [
           {
            "marker": {
             "line": {
              "color": "#E5ECF6",
              "width": 0.5
             }
            },
            "type": "barpolar"
           }
          ],
          "carpet": [
           {
            "aaxis": {
             "endlinecolor": "#2a3f5f",
             "gridcolor": "white",
             "linecolor": "white",
             "minorgridcolor": "white",
             "startlinecolor": "#2a3f5f"
            },
            "baxis": {
             "endlinecolor": "#2a3f5f",
             "gridcolor": "white",
             "linecolor": "white",
             "minorgridcolor": "white",
             "startlinecolor": "#2a3f5f"
            },
            "type": "carpet"
           }
          ],
          "choropleth": [
           {
            "colorbar": {
             "outlinewidth": 0,
             "ticks": ""
            },
            "type": "choropleth"
           }
          ],
          "contour": [
           {
            "colorbar": {
             "outlinewidth": 0,
             "ticks": ""
            },
            "colorscale": [
             [
              0,
              "#0d0887"
             ],
             [
              0.1111111111111111,
              "#46039f"
             ],
             [
              0.2222222222222222,
              "#7201a8"
             ],
             [
              0.3333333333333333,
              "#9c179e"
             ],
             [
              0.4444444444444444,
              "#bd3786"
             ],
             [
              0.5555555555555556,
              "#d8576b"
             ],
             [
              0.6666666666666666,
              "#ed7953"
             ],
             [
              0.7777777777777778,
              "#fb9f3a"
             ],
             [
              0.8888888888888888,
              "#fdca26"
             ],
             [
              1,
              "#f0f921"
             ]
            ],
            "type": "contour"
           }
          ],
          "contourcarpet": [
           {
            "colorbar": {
             "outlinewidth": 0,
             "ticks": ""
            },
            "type": "contourcarpet"
           }
          ],
          "heatmap": [
           {
            "colorbar": {
             "outlinewidth": 0,
             "ticks": ""
            },
            "colorscale": [
             [
              0,
              "#0d0887"
             ],
             [
              0.1111111111111111,
              "#46039f"
             ],
             [
              0.2222222222222222,
              "#7201a8"
             ],
             [
              0.3333333333333333,
              "#9c179e"
             ],
             [
              0.4444444444444444,
              "#bd3786"
             ],
             [
              0.5555555555555556,
              "#d8576b"
             ],
             [
              0.6666666666666666,
              "#ed7953"
             ],
             [
              0.7777777777777778,
              "#fb9f3a"
             ],
             [
              0.8888888888888888,
              "#fdca26"
             ],
             [
              1,
              "#f0f921"
             ]
            ],
            "type": "heatmap"
           }
          ],
          "heatmapgl": [
           {
            "colorbar": {
             "outlinewidth": 0,
             "ticks": ""
            },
            "colorscale": [
             [
              0,
              "#0d0887"
             ],
             [
              0.1111111111111111,
              "#46039f"
             ],
             [
              0.2222222222222222,
              "#7201a8"
             ],
             [
              0.3333333333333333,
              "#9c179e"
             ],
             [
              0.4444444444444444,
              "#bd3786"
             ],
             [
              0.5555555555555556,
              "#d8576b"
             ],
             [
              0.6666666666666666,
              "#ed7953"
             ],
             [
              0.7777777777777778,
              "#fb9f3a"
             ],
             [
              0.8888888888888888,
              "#fdca26"
             ],
             [
              1,
              "#f0f921"
             ]
            ],
            "type": "heatmapgl"
           }
          ],
          "histogram": [
           {
            "marker": {
             "colorbar": {
              "outlinewidth": 0,
              "ticks": ""
             }
            },
            "type": "histogram"
           }
          ],
          "histogram2d": [
           {
            "colorbar": {
             "outlinewidth": 0,
             "ticks": ""
            },
            "colorscale": [
             [
              0,
              "#0d0887"
             ],
             [
              0.1111111111111111,
              "#46039f"
             ],
             [
              0.2222222222222222,
              "#7201a8"
             ],
             [
              0.3333333333333333,
              "#9c179e"
             ],
             [
              0.4444444444444444,
              "#bd3786"
             ],
             [
              0.5555555555555556,
              "#d8576b"
             ],
             [
              0.6666666666666666,
              "#ed7953"
             ],
             [
              0.7777777777777778,
              "#fb9f3a"
             ],
             [
              0.8888888888888888,
              "#fdca26"
             ],
             [
              1,
              "#f0f921"
             ]
            ],
            "type": "histogram2d"
           }
          ],
          "histogram2dcontour": [
           {
            "colorbar": {
             "outlinewidth": 0,
             "ticks": ""
            },
            "colorscale": [
             [
              0,
              "#0d0887"
             ],
             [
              0.1111111111111111,
              "#46039f"
             ],
             [
              0.2222222222222222,
              "#7201a8"
             ],
             [
              0.3333333333333333,
              "#9c179e"
             ],
             [
              0.4444444444444444,
              "#bd3786"
             ],
             [
              0.5555555555555556,
              "#d8576b"
             ],
             [
              0.6666666666666666,
              "#ed7953"
             ],
             [
              0.7777777777777778,
              "#fb9f3a"
             ],
             [
              0.8888888888888888,
              "#fdca26"
             ],
             [
              1,
              "#f0f921"
             ]
            ],
            "type": "histogram2dcontour"
           }
          ],
          "mesh3d": [
           {
            "colorbar": {
             "outlinewidth": 0,
             "ticks": ""
            },
            "type": "mesh3d"
           }
          ],
          "parcoords": [
           {
            "line": {
             "colorbar": {
              "outlinewidth": 0,
              "ticks": ""
             }
            },
            "type": "parcoords"
           }
          ],
          "pie": [
           {
            "automargin": true,
            "type": "pie"
           }
          ],
          "scatter": [
           {
            "marker": {
             "colorbar": {
              "outlinewidth": 0,
              "ticks": ""
             }
            },
            "type": "scatter"
           }
          ],
          "scatter3d": [
           {
            "line": {
             "colorbar": {
              "outlinewidth": 0,
              "ticks": ""
             }
            },
            "marker": {
             "colorbar": {
              "outlinewidth": 0,
              "ticks": ""
             }
            },
            "type": "scatter3d"
           }
          ],
          "scattercarpet": [
           {
            "marker": {
             "colorbar": {
              "outlinewidth": 0,
              "ticks": ""
             }
            },
            "type": "scattercarpet"
           }
          ],
          "scattergeo": [
           {
            "marker": {
             "colorbar": {
              "outlinewidth": 0,
              "ticks": ""
             }
            },
            "type": "scattergeo"
           }
          ],
          "scattergl": [
           {
            "marker": {
             "colorbar": {
              "outlinewidth": 0,
              "ticks": ""
             }
            },
            "type": "scattergl"
           }
          ],
          "scattermapbox": [
           {
            "marker": {
             "colorbar": {
              "outlinewidth": 0,
              "ticks": ""
             }
            },
            "type": "scattermapbox"
           }
          ],
          "scatterpolar": [
           {
            "marker": {
             "colorbar": {
              "outlinewidth": 0,
              "ticks": ""
             }
            },
            "type": "scatterpolar"
           }
          ],
          "scatterpolargl": [
           {
            "marker": {
             "colorbar": {
              "outlinewidth": 0,
              "ticks": ""
             }
            },
            "type": "scatterpolargl"
           }
          ],
          "scatterternary": [
           {
            "marker": {
             "colorbar": {
              "outlinewidth": 0,
              "ticks": ""
             }
            },
            "type": "scatterternary"
           }
          ],
          "surface": [
           {
            "colorbar": {
             "outlinewidth": 0,
             "ticks": ""
            },
            "colorscale": [
             [
              0,
              "#0d0887"
             ],
             [
              0.1111111111111111,
              "#46039f"
             ],
             [
              0.2222222222222222,
              "#7201a8"
             ],
             [
              0.3333333333333333,
              "#9c179e"
             ],
             [
              0.4444444444444444,
              "#bd3786"
             ],
             [
              0.5555555555555556,
              "#d8576b"
             ],
             [
              0.6666666666666666,
              "#ed7953"
             ],
             [
              0.7777777777777778,
              "#fb9f3a"
             ],
             [
              0.8888888888888888,
              "#fdca26"
             ],
             [
              1,
              "#f0f921"
             ]
            ],
            "type": "surface"
           }
          ],
          "table": [
           {
            "cells": {
             "fill": {
              "color": "#EBF0F8"
             },
             "line": {
              "color": "white"
             }
            },
            "header": {
             "fill": {
              "color": "#C8D4E3"
             },
             "line": {
              "color": "white"
             }
            },
            "type": "table"
           }
          ]
         },
         "layout": {
          "annotationdefaults": {
           "arrowcolor": "#2a3f5f",
           "arrowhead": 0,
           "arrowwidth": 1
          },
          "autotypenumbers": "strict",
          "coloraxis": {
           "colorbar": {
            "outlinewidth": 0,
            "ticks": ""
           }
          },
          "colorscale": {
           "diverging": [
            [
             0,
             "#8e0152"
            ],
            [
             0.1,
             "#c51b7d"
            ],
            [
             0.2,
             "#de77ae"
            ],
            [
             0.3,
             "#f1b6da"
            ],
            [
             0.4,
             "#fde0ef"
            ],
            [
             0.5,
             "#f7f7f7"
            ],
            [
             0.6,
             "#e6f5d0"
            ],
            [
             0.7,
             "#b8e186"
            ],
            [
             0.8,
             "#7fbc41"
            ],
            [
             0.9,
             "#4d9221"
            ],
            [
             1,
             "#276419"
            ]
           ],
           "sequential": [
            [
             0,
             "#0d0887"
            ],
            [
             0.1111111111111111,
             "#46039f"
            ],
            [
             0.2222222222222222,
             "#7201a8"
            ],
            [
             0.3333333333333333,
             "#9c179e"
            ],
            [
             0.4444444444444444,
             "#bd3786"
            ],
            [
             0.5555555555555556,
             "#d8576b"
            ],
            [
             0.6666666666666666,
             "#ed7953"
            ],
            [
             0.7777777777777778,
             "#fb9f3a"
            ],
            [
             0.8888888888888888,
             "#fdca26"
            ],
            [
             1,
             "#f0f921"
            ]
           ],
           "sequentialminus": [
            [
             0,
             "#0d0887"
            ],
            [
             0.1111111111111111,
             "#46039f"
            ],
            [
             0.2222222222222222,
             "#7201a8"
            ],
            [
             0.3333333333333333,
             "#9c179e"
            ],
            [
             0.4444444444444444,
             "#bd3786"
            ],
            [
             0.5555555555555556,
             "#d8576b"
            ],
            [
             0.6666666666666666,
             "#ed7953"
            ],
            [
             0.7777777777777778,
             "#fb9f3a"
            ],
            [
             0.8888888888888888,
             "#fdca26"
            ],
            [
             1,
             "#f0f921"
            ]
           ]
          },
          "colorway": [
           "#636efa",
           "#EF553B",
           "#00cc96",
           "#ab63fa",
           "#FFA15A",
           "#19d3f3",
           "#FF6692",
           "#B6E880",
           "#FF97FF",
           "#FECB52"
          ],
          "font": {
           "color": "#2a3f5f"
          },
          "geo": {
           "bgcolor": "white",
           "lakecolor": "white",
           "landcolor": "#E5ECF6",
           "showlakes": true,
           "showland": true,
           "subunitcolor": "white"
          },
          "hoverlabel": {
           "align": "left"
          },
          "hovermode": "closest",
          "mapbox": {
           "style": "light"
          },
          "paper_bgcolor": "white",
          "plot_bgcolor": "#E5ECF6",
          "polar": {
           "angularaxis": {
            "gridcolor": "white",
            "linecolor": "white",
            "ticks": ""
           },
           "bgcolor": "#E5ECF6",
           "radialaxis": {
            "gridcolor": "white",
            "linecolor": "white",
            "ticks": ""
           }
          },
          "scene": {
           "xaxis": {
            "backgroundcolor": "#E5ECF6",
            "gridcolor": "white",
            "gridwidth": 2,
            "linecolor": "white",
            "showbackground": true,
            "ticks": "",
            "zerolinecolor": "white"
           },
           "yaxis": {
            "backgroundcolor": "#E5ECF6",
            "gridcolor": "white",
            "gridwidth": 2,
            "linecolor": "white",
            "showbackground": true,
            "ticks": "",
            "zerolinecolor": "white"
           },
           "zaxis": {
            "backgroundcolor": "#E5ECF6",
            "gridcolor": "white",
            "gridwidth": 2,
            "linecolor": "white",
            "showbackground": true,
            "ticks": "",
            "zerolinecolor": "white"
           }
          },
          "shapedefaults": {
           "line": {
            "color": "#2a3f5f"
           }
          },
          "ternary": {
           "aaxis": {
            "gridcolor": "white",
            "linecolor": "white",
            "ticks": ""
           },
           "baxis": {
            "gridcolor": "white",
            "linecolor": "white",
            "ticks": ""
           },
           "bgcolor": "#E5ECF6",
           "caxis": {
            "gridcolor": "white",
            "linecolor": "white",
            "ticks": ""
           }
          },
          "title": {
           "x": 0.05
          },
          "xaxis": {
           "automargin": true,
           "gridcolor": "white",
           "linecolor": "white",
           "ticks": "",
           "title": {
            "standoff": 15
           },
           "zerolinecolor": "white",
           "zerolinewidth": 2
          },
          "yaxis": {
           "automargin": true,
           "gridcolor": "white",
           "linecolor": "white",
           "ticks": "",
           "title": {
            "standoff": 15
           },
           "zerolinecolor": "white",
           "zerolinewidth": 2
          }
         }
        },
        "title": {
         "text": "Generated 10 Tickets of MonWedLotto"
        },
        "width": 900
       }
      },
      "text/html": [
       "<div>                            <div id=\"8e7c20d5-8382-479f-8462-79cd04150079\" class=\"plotly-graph-div\" style=\"height:600px; width:900px;\"></div>            <script type=\"text/javascript\">                require([\"plotly\"], function(Plotly) {                    window.PLOTLYENV=window.PLOTLYENV || {};                                    if (document.getElementById(\"8e7c20d5-8382-479f-8462-79cd04150079\")) {                    Plotly.newPlot(                        \"8e7c20d5-8382-479f-8462-79cd04150079\",                        [{\"cells\": {\"align\": \"left\", \"values\": [[1, 2, 3, 4, 5, 6, 7, 8, 9, 10], [41, 42, 4, 21, 3, 37, 12, 21, 26, 26], [20, 40, 20, 41, 4, 40, 33, 41, 11, 14], [30, 8, 16, 42, 38, 8, 30, 42, 40, 5], [40, 14, 3, 16, 41, 39, 43, 14, 44, 44], [11, 37, 23, 40, 42, 28, 24, 8, 39, 39], [42, 41, 13, 44, 40, 13, 1, 44, 45, 13], [32, 45, 42, 39, 8, 14, 39, 16, 41, 40], [16, 27, 40, 45, 44, 41, 28, 37, 37, 42], [\"26.72 %\", \"26.57 %\", \"33.31 %\", \"27.1 %\", \"30.0 %\", \"32.13 %\", \"33.04 %\", \"22.47 %\", \"28.3 %\", \"27.88 %\"]]}, \"domain\": {\"x\": [0.0, 1.0], \"y\": [0.0, 1.0]}, \"header\": {\"align\": \"left\", \"font\": {\"size\": 10}, \"values\": [\"Ticket No\", \"#1\", \"#2\", \"#3\", \"#4\", \"#5\", \"#6\", \"#7\", \"#8\", \"perc_mean\"]}, \"type\": \"table\"}],                        {\"height\": 600, \"showlegend\": false, \"template\": {\"data\": {\"bar\": [{\"error_x\": {\"color\": \"#2a3f5f\"}, \"error_y\": {\"color\": \"#2a3f5f\"}, \"marker\": {\"line\": {\"color\": \"#E5ECF6\", \"width\": 0.5}}, \"type\": \"bar\"}], \"barpolar\": [{\"marker\": {\"line\": {\"color\": \"#E5ECF6\", \"width\": 0.5}}, \"type\": \"barpolar\"}], \"carpet\": [{\"aaxis\": {\"endlinecolor\": \"#2a3f5f\", \"gridcolor\": \"white\", \"linecolor\": \"white\", \"minorgridcolor\": \"white\", \"startlinecolor\": \"#2a3f5f\"}, \"baxis\": {\"endlinecolor\": \"#2a3f5f\", \"gridcolor\": \"white\", \"linecolor\": \"white\", \"minorgridcolor\": \"white\", \"startlinecolor\": \"#2a3f5f\"}, \"type\": \"carpet\"}], \"choropleth\": [{\"colorbar\": {\"outlinewidth\": 0, \"ticks\": \"\"}, \"type\": \"choropleth\"}], \"contour\": [{\"colorbar\": {\"outlinewidth\": 0, \"ticks\": \"\"}, \"colorscale\": [[0.0, \"#0d0887\"], [0.1111111111111111, \"#46039f\"], [0.2222222222222222, \"#7201a8\"], [0.3333333333333333, \"#9c179e\"], [0.4444444444444444, \"#bd3786\"], [0.5555555555555556, \"#d8576b\"], [0.6666666666666666, \"#ed7953\"], [0.7777777777777778, \"#fb9f3a\"], [0.8888888888888888, \"#fdca26\"], [1.0, \"#f0f921\"]], \"type\": \"contour\"}], \"contourcarpet\": [{\"colorbar\": {\"outlinewidth\": 0, \"ticks\": \"\"}, \"type\": \"contourcarpet\"}], \"heatmap\": [{\"colorbar\": {\"outlinewidth\": 0, \"ticks\": \"\"}, \"colorscale\": [[0.0, \"#0d0887\"], [0.1111111111111111, \"#46039f\"], [0.2222222222222222, \"#7201a8\"], [0.3333333333333333, \"#9c179e\"], [0.4444444444444444, \"#bd3786\"], [0.5555555555555556, \"#d8576b\"], [0.6666666666666666, \"#ed7953\"], [0.7777777777777778, \"#fb9f3a\"], [0.8888888888888888, \"#fdca26\"], [1.0, \"#f0f921\"]], \"type\": \"heatmap\"}], \"heatmapgl\": [{\"colorbar\": {\"outlinewidth\": 0, \"ticks\": \"\"}, \"colorscale\": [[0.0, \"#0d0887\"], [0.1111111111111111, \"#46039f\"], [0.2222222222222222, \"#7201a8\"], [0.3333333333333333, \"#9c179e\"], [0.4444444444444444, \"#bd3786\"], [0.5555555555555556, \"#d8576b\"], [0.6666666666666666, \"#ed7953\"], [0.7777777777777778, \"#fb9f3a\"], [0.8888888888888888, \"#fdca26\"], [1.0, \"#f0f921\"]], \"type\": \"heatmapgl\"}], \"histogram\": [{\"marker\": {\"colorbar\": {\"outlinewidth\": 0, \"ticks\": \"\"}}, \"type\": \"histogram\"}], \"histogram2d\": [{\"colorbar\": {\"outlinewidth\": 0, \"ticks\": \"\"}, \"colorscale\": [[0.0, \"#0d0887\"], [0.1111111111111111, \"#46039f\"], [0.2222222222222222, \"#7201a8\"], [0.3333333333333333, \"#9c179e\"], [0.4444444444444444, \"#bd3786\"], [0.5555555555555556, \"#d8576b\"], [0.6666666666666666, \"#ed7953\"], [0.7777777777777778, \"#fb9f3a\"], [0.8888888888888888, \"#fdca26\"], [1.0, \"#f0f921\"]], \"type\": \"histogram2d\"}], \"histogram2dcontour\": [{\"colorbar\": {\"outlinewidth\": 0, \"ticks\": \"\"}, \"colorscale\": [[0.0, \"#0d0887\"], [0.1111111111111111, \"#46039f\"], [0.2222222222222222, \"#7201a8\"], [0.3333333333333333, \"#9c179e\"], [0.4444444444444444, \"#bd3786\"], [0.5555555555555556, \"#d8576b\"], [0.6666666666666666, \"#ed7953\"], [0.7777777777777778, \"#fb9f3a\"], [0.8888888888888888, \"#fdca26\"], [1.0, \"#f0f921\"]], \"type\": \"histogram2dcontour\"}], \"mesh3d\": [{\"colorbar\": {\"outlinewidth\": 0, \"ticks\": \"\"}, \"type\": \"mesh3d\"}], \"parcoords\": [{\"line\": {\"colorbar\": {\"outlinewidth\": 0, \"ticks\": \"\"}}, \"type\": \"parcoords\"}], \"pie\": [{\"automargin\": true, \"type\": \"pie\"}], \"scatter\": [{\"marker\": {\"colorbar\": {\"outlinewidth\": 0, \"ticks\": \"\"}}, \"type\": \"scatter\"}], \"scatter3d\": [{\"line\": {\"colorbar\": {\"outlinewidth\": 0, \"ticks\": \"\"}}, \"marker\": {\"colorbar\": {\"outlinewidth\": 0, \"ticks\": \"\"}}, \"type\": \"scatter3d\"}], \"scattercarpet\": [{\"marker\": {\"colorbar\": {\"outlinewidth\": 0, \"ticks\": \"\"}}, \"type\": \"scattercarpet\"}], \"scattergeo\": [{\"marker\": {\"colorbar\": {\"outlinewidth\": 0, \"ticks\": \"\"}}, \"type\": \"scattergeo\"}], \"scattergl\": [{\"marker\": {\"colorbar\": {\"outlinewidth\": 0, \"ticks\": \"\"}}, \"type\": \"scattergl\"}], \"scattermapbox\": [{\"marker\": {\"colorbar\": {\"outlinewidth\": 0, \"ticks\": \"\"}}, \"type\": \"scattermapbox\"}], \"scatterpolar\": [{\"marker\": {\"colorbar\": {\"outlinewidth\": 0, \"ticks\": \"\"}}, \"type\": \"scatterpolar\"}], \"scatterpolargl\": [{\"marker\": {\"colorbar\": {\"outlinewidth\": 0, \"ticks\": \"\"}}, \"type\": \"scatterpolargl\"}], \"scatterternary\": [{\"marker\": {\"colorbar\": {\"outlinewidth\": 0, \"ticks\": \"\"}}, \"type\": \"scatterternary\"}], \"surface\": [{\"colorbar\": {\"outlinewidth\": 0, \"ticks\": \"\"}, \"colorscale\": [[0.0, \"#0d0887\"], [0.1111111111111111, \"#46039f\"], [0.2222222222222222, \"#7201a8\"], [0.3333333333333333, \"#9c179e\"], [0.4444444444444444, \"#bd3786\"], [0.5555555555555556, \"#d8576b\"], [0.6666666666666666, \"#ed7953\"], [0.7777777777777778, \"#fb9f3a\"], [0.8888888888888888, \"#fdca26\"], [1.0, \"#f0f921\"]], \"type\": \"surface\"}], \"table\": [{\"cells\": {\"fill\": {\"color\": \"#EBF0F8\"}, \"line\": {\"color\": \"white\"}}, \"header\": {\"fill\": {\"color\": \"#C8D4E3\"}, \"line\": {\"color\": \"white\"}}, \"type\": \"table\"}]}, \"layout\": {\"annotationdefaults\": {\"arrowcolor\": \"#2a3f5f\", \"arrowhead\": 0, \"arrowwidth\": 1}, \"autotypenumbers\": \"strict\", \"coloraxis\": {\"colorbar\": {\"outlinewidth\": 0, \"ticks\": \"\"}}, \"colorscale\": {\"diverging\": [[0, \"#8e0152\"], [0.1, \"#c51b7d\"], [0.2, \"#de77ae\"], [0.3, \"#f1b6da\"], [0.4, \"#fde0ef\"], [0.5, \"#f7f7f7\"], [0.6, \"#e6f5d0\"], [0.7, \"#b8e186\"], [0.8, \"#7fbc41\"], [0.9, \"#4d9221\"], [1, \"#276419\"]], \"sequential\": [[0.0, \"#0d0887\"], [0.1111111111111111, \"#46039f\"], [0.2222222222222222, \"#7201a8\"], [0.3333333333333333, \"#9c179e\"], [0.4444444444444444, \"#bd3786\"], [0.5555555555555556, \"#d8576b\"], [0.6666666666666666, \"#ed7953\"], [0.7777777777777778, \"#fb9f3a\"], [0.8888888888888888, \"#fdca26\"], [1.0, \"#f0f921\"]], \"sequentialminus\": [[0.0, \"#0d0887\"], [0.1111111111111111, \"#46039f\"], [0.2222222222222222, \"#7201a8\"], [0.3333333333333333, \"#9c179e\"], [0.4444444444444444, \"#bd3786\"], [0.5555555555555556, \"#d8576b\"], [0.6666666666666666, \"#ed7953\"], [0.7777777777777778, \"#fb9f3a\"], [0.8888888888888888, \"#fdca26\"], [1.0, \"#f0f921\"]]}, \"colorway\": [\"#636efa\", \"#EF553B\", \"#00cc96\", \"#ab63fa\", \"#FFA15A\", \"#19d3f3\", \"#FF6692\", \"#B6E880\", \"#FF97FF\", \"#FECB52\"], \"font\": {\"color\": \"#2a3f5f\"}, \"geo\": {\"bgcolor\": \"white\", \"lakecolor\": \"white\", \"landcolor\": \"#E5ECF6\", \"showlakes\": true, \"showland\": true, \"subunitcolor\": \"white\"}, \"hoverlabel\": {\"align\": \"left\"}, \"hovermode\": \"closest\", \"mapbox\": {\"style\": \"light\"}, \"paper_bgcolor\": \"white\", \"plot_bgcolor\": \"#E5ECF6\", \"polar\": {\"angularaxis\": {\"gridcolor\": \"white\", \"linecolor\": \"white\", \"ticks\": \"\"}, \"bgcolor\": \"#E5ECF6\", \"radialaxis\": {\"gridcolor\": \"white\", \"linecolor\": \"white\", \"ticks\": \"\"}}, \"scene\": {\"xaxis\": {\"backgroundcolor\": \"#E5ECF6\", \"gridcolor\": \"white\", \"gridwidth\": 2, \"linecolor\": \"white\", \"showbackground\": true, \"ticks\": \"\", \"zerolinecolor\": \"white\"}, \"yaxis\": {\"backgroundcolor\": \"#E5ECF6\", \"gridcolor\": \"white\", \"gridwidth\": 2, \"linecolor\": \"white\", \"showbackground\": true, \"ticks\": \"\", \"zerolinecolor\": \"white\"}, \"zaxis\": {\"backgroundcolor\": \"#E5ECF6\", \"gridcolor\": \"white\", \"gridwidth\": 2, \"linecolor\": \"white\", \"showbackground\": true, \"ticks\": \"\", \"zerolinecolor\": \"white\"}}, \"shapedefaults\": {\"line\": {\"color\": \"#2a3f5f\"}}, \"ternary\": {\"aaxis\": {\"gridcolor\": \"white\", \"linecolor\": \"white\", \"ticks\": \"\"}, \"baxis\": {\"gridcolor\": \"white\", \"linecolor\": \"white\", \"ticks\": \"\"}, \"bgcolor\": \"#E5ECF6\", \"caxis\": {\"gridcolor\": \"white\", \"linecolor\": \"white\", \"ticks\": \"\"}}, \"title\": {\"x\": 0.05}, \"xaxis\": {\"automargin\": true, \"gridcolor\": \"white\", \"linecolor\": \"white\", \"ticks\": \"\", \"title\": {\"standoff\": 15}, \"zerolinecolor\": \"white\", \"zerolinewidth\": 2}, \"yaxis\": {\"automargin\": true, \"gridcolor\": \"white\", \"linecolor\": \"white\", \"ticks\": \"\", \"title\": {\"standoff\": 15}, \"zerolinecolor\": \"white\", \"zerolinewidth\": 2}}}, \"title\": {\"text\": \"Generated 10 Tickets of MonWedLotto\"}, \"width\": 900},                        {\"responsive\": true}                    ).then(function(){\n",
       "                            \n",
       "var gd = document.getElementById('8e7c20d5-8382-479f-8462-79cd04150079');\n",
       "var x = new MutationObserver(function (mutations, observer) {{\n",
       "        var display = window.getComputedStyle(gd).display;\n",
       "        if (!display || display === 'none') {{\n",
       "            console.log([gd, 'removed!']);\n",
       "            Plotly.purge(gd);\n",
       "            observer.disconnect();\n",
       "        }}\n",
       "}});\n",
       "\n",
       "// Listen for the removal of the full notebook cells\n",
       "var notebookContainer = gd.closest('#notebook-container');\n",
       "if (notebookContainer) {{\n",
       "    x.observe(notebookContainer, {childList: true});\n",
       "}}\n",
       "\n",
       "// Listen for the clearing of the current output cell\n",
       "var outputEl = gd.closest('.output');\n",
       "if (outputEl) {{\n",
       "    x.observe(outputEl, {childList: true});\n",
       "}}\n",
       "\n",
       "                        })                };                });            </script>        </div>"
      ]
     },
     "metadata": {},
     "output_type": "display_data"
    }
   ],
   "source": [
    "# Plot Generated Tickets\n",
    "\n",
    "import plotly.graph_objects as go\n",
    "from plotly.subplots import make_subplots\n",
    "\n",
    "def table_plot_game(game, game_name):\n",
    "    fig = make_subplots(\n",
    "        rows=1, cols=1,\n",
    "        shared_xaxes=True,\n",
    "        vertical_spacing=0.04,\n",
    "        specs=[[{\"type\": \"table\"}]]\n",
    "    )\n",
    "\n",
    "    table_cols = [\"Ticket No\"]\n",
    "    for i in range(len(df['ticket'][0])):\n",
    "        table_cols.append('#' + str(i+1))\n",
    "\n",
    "    table_cols.append('perc_mean')\n",
    "\n",
    "\n",
    "    fig.add_trace(\n",
    "        go.Table(\n",
    "            header=dict(\n",
    "                values= table_cols,\n",
    "                font=dict(size=10),\n",
    "                align=\"left\"\n",
    "            ),\n",
    "            cells=dict(\n",
    "                values=[df.index.values + 1] + \n",
    "                [num for num in zip(*df['ticket'])] +\n",
    "                [[str(mean) + ' %' for mean in df['perc_mean'].tolist()]] ,\n",
    "                align = \"left\")\n",
    "        ),\n",
    "        row=1, col=1\n",
    "    )\n",
    "    fig.update_layout(\n",
    "        height=600,\n",
    "        width=900,\n",
    "        showlegend=False,\n",
    "        title_text=\"Generated 10 Tickets of \" + game_name,\n",
    "    )\n",
    "\n",
    "    fig.show()\n",
    "    pio.write_html(fig, file= 'generated_tickets.html', auto_open=False)\n",
    "    \n",
    "game = gameGenerator(df_wed_corrNums, 10, 5, None)\n",
    "table_plot_game(game, \"MonWedLotto\")"
   ]
  }
 ],
 "metadata": {
  "kernelspec": {
   "display_name": "Python 3",
   "language": "python",
   "name": "python3"
  },
  "language_info": {
   "codemirror_mode": {
    "name": "ipython",
    "version": 3
   },
   "file_extension": ".py",
   "mimetype": "text/x-python",
   "name": "python",
   "nbconvert_exporter": "python",
   "pygments_lexer": "ipython3",
   "version": "3.9.2"
  }
 },
 "nbformat": 4,
 "nbformat_minor": 5
}
