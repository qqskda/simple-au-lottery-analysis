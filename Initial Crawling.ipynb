{
 "cells": [
  {
   "cell_type": "markdown",
   "id": "electric-cross",
   "metadata": {},
   "source": [
    "Automatic Update/Collect Draws\n",
    "\n",
    "1. Request 50 Draws each time of request (max_permitted)\n",
    "2. Check the response\n",
    "3. Save it in json()\n",
    "4. Parsing and store the data\n",
    "5. Check the Update Interval (date?) -> Request the new draw at the right time.\n",
    "6. ...\n",
    "\n",
    "### Why drawrange over daterange?\n",
    "drawrange allows upto 50 at once while daterange allows 90 days.\n",
    "\n",
    "Since the lottery is weekly-drawn, daterange allows to get maximum 12 draws per request.\n",
    "\n",
    "### About MonWedLotto?\n",
    "MonWedLotto use the same machine, and draws twice weekly; mon and wed.\n",
    "\n",
    "Since the purpose of this project is to analyze the tendency of a \"machine\" I did not separated two draws. \n",
    "\n",
    "Even draw Nums are Monday\n",
    "\n",
    "Odd  draw Nums are Wed\n",
    "\n",
    "### Why 2012 Jan?\n",
    "1. API supports draws starting from different date.\n",
    "2. Apply fairly \"recent\" tendencies."
   ]
  },
  {
   "cell_type": "code",
   "execution_count": 325,
   "id": "swiss-maryland",
   "metadata": {},
   "outputs": [],
   "source": [
    "import requests\n",
    "import pandas as pd\n",
    "from enum import Enum\n",
    "import time"
   ]
  },
  {
   "cell_type": "code",
   "execution_count": 356,
   "id": "smooth-lesson",
   "metadata": {},
   "outputs": [],
   "source": [
    "# Classes - Different Lottery has diff rules\n",
    "\n",
    "class Lotto:\n",
    "    def __init__(self, game_name, next_draw_num):\n",
    "        self.game_name = game_name\n",
    "        self.next_draw_num = next_draw_num\n",
    "        self.interval = 7\n",
    "        self.last_draw = 0"
   ]
  },
  {
   "cell_type": "code",
   "execution_count": 357,
   "id": "found-bathroom",
   "metadata": {},
   "outputs": [],
   "source": [
    "# Basic Parameter Setup\n",
    "# Two Lotto shares the same data.api url as following\n",
    "url = 'https://data.api.thelott.com/sales/vmax/web/data/lotto/results/search/drawrange'\n",
    "\n",
    "# Payload Setup \n",
    "payload_template = {'MinDrawNo': None, 'MaxDrawNo': None, 'Product': None, 'CompanyFilter': [\"NSWLotteries\"]}"
   ]
  },
  {
   "cell_type": "code",
   "execution_count": 358,
   "id": "superb-northern",
   "metadata": {},
   "outputs": [],
   "source": [
    "# Create request payload in json format (dict)\n",
    "# Request 50 draws at one time (api request limit)\n",
    "def create_payload(game: Lotto) -> dict:\n",
    "    ret_payload = payload_template.copy()\n",
    "    ret_payload['MinDrawNo'] = game.draw_num\n",
    "    ret_payload['MaxDrawNo'] = game.draw_num + 49\n",
    "    ret_payload['Product'] = game.game_name\n",
    "    return ret_payload"
   ]
  },
  {
   "cell_type": "code",
   "execution_count": 359,
   "id": "narrow-equality",
   "metadata": {},
   "outputs": [],
   "source": [
    "# request Setup\n",
    "wed_data = pd.DataFrame()\n",
    "sat_data = pd.DataFrame()\n",
    "\n",
    "def do_request(url, payload):\n",
    "    try:\n",
    "        r = requests.post(url, json = payload, timeout = (2,5))\n",
    "    except Timeout:\n",
    "        print('Request TimeOut')\n",
    "        return\n",
    "    else:\n",
    "        if r.status_code == 200:\n",
    "            print(\"Request Success\")\n",
    "        else:\n",
    "            print(\"Request Failed - \", r.status_code)\n",
    "            return\n",
    "    \n",
    "    response = r.json()\n",
    "    \n",
    "    if response['ErrorInfo'] != None:\n",
    "        print(\"Error - May have issues with parameter of payload\")\n",
    "        print(payload)\n",
    "        return\n",
    "    \n",
    "    return response\n",
    "\n",
    "def interpret_response(data, response):\n",
    "    draws = pd.DataFrame.from_dict(response['Draws'])\n",
    "    try:\n",
    "        data = data.append(draws)\n",
    "    except:\n",
    "        print(\"parse_response: Data Append Failed\")\n",
    "        return\n",
    "    else:\n",
    "        print(\"parse_response: Data Append Success\")\n",
    "        return data, len(draws)"
   ]
  },
  {
   "cell_type": "code",
   "execution_count": 390,
   "id": "recognized-updating",
   "metadata": {},
   "outputs": [],
   "source": [
    "# Website has no previous draws for MonWedLotto\n",
    "startNo_monWed = 3108 # 2012 Jan 30\n",
    "startNo_sat = 3185 # 2012 Jan 28\n",
    "wed_game = Lotto('MonWedLotto', 4055)\n",
    "sat_game = Lotto('TattsLotto', startNo_sat)"
   ]
  },
  {
   "cell_type": "code",
   "execution_count": 391,
   "id": "international-pharmacology",
   "metadata": {},
   "outputs": [],
   "source": [
    "# Script Function\n",
    "\n",
    "def crawl_all(wed_game: Lotto, sat_game: Lotto):\n",
    "    wed_data = pd.DataFrame()\n",
    "    sat_data = pd.DataFrame()\n",
    "    \n",
    "    wed_crawl_done = False\n",
    "    while not wed_crawl_done:\n",
    "        wed_payload = create_payload(wed_game)\n",
    "        response = do_request(url, wed_payload)\n",
    "        if len(response['Draws']) == 0 or response == None:\n",
    "            wed_crawl_done = True\n",
    "        else:\n",
    "            wed_data, num_draws = interpret_response(wed_data, response)\n",
    "            print(\"MonWed Draws from: \", wed_game.draw_num, \"to\", wed_game.draw_num + num_draws - 1)\n",
    "            wed_game.draw_num += num_draws\n",
    "            time.sleep(2)\n",
    "            \n",
    "    print(\"monWed Draws Completed upto\", wed_game.draw_num - 1)\n",
    "    print(\"Now Moving on to Sat Draws\")\n",
    "    \n",
    "    sat_crawl_done = False\n",
    "    while not sat_crawl_done:\n",
    "        sat_payload = create_payload(wed_game)\n",
    "        response = do_request(url, sat_payload)\n",
    "        if  len(response['Draws']) == 0 or response == None:\n",
    "            sat_crawl_done = True\n",
    "        else:\n",
    "            sat_data, num_draws = interpret_response(sat_data, response)\n",
    "            print(\"Sat Draws from: \", sat_game.draw_num, \"to\", sat_game.draw_num + num_draws - 1)\n",
    "            sat_game.draw_num += num_draws\n",
    "            time.sleep(2)            \n",
    "    \n",
    "    print(\"sat Draws Completed upto\", sat_game.draw_num - 1)\n",
    "    print(\"Now Wrapping up crawlling\")\n",
    "    \n",
    "    \n",
    "    return wed_data, sat_data, wed_game, sat_game"
   ]
  },
  {
   "cell_type": "code",
   "execution_count": 392,
   "id": "surrounded-filing",
   "metadata": {},
   "outputs": [
    {
     "name": "stdout",
     "output_type": "stream",
     "text": [
      "Request Success\n",
      "parse_response: Data Append Success\n",
      "MonWed Draws from:  4055 to 4061\n",
      "Request Success\n",
      "Request Success\n"
     ]
    }
   ],
   "source": [
    "wed_data, sat_data, wed_game, sat_game = crawl_all(wed_game,sat_game)"
   ]
  },
  {
   "cell_type": "code",
   "execution_count": 393,
   "id": "official-slope",
   "metadata": {},
   "outputs": [
    {
     "data": {
      "text/html": [
       "<div>\n",
       "<style scoped>\n",
       "    .dataframe tbody tr th:only-of-type {\n",
       "        vertical-align: middle;\n",
       "    }\n",
       "\n",
       "    .dataframe tbody tr th {\n",
       "        vertical-align: top;\n",
       "    }\n",
       "\n",
       "    .dataframe thead th {\n",
       "        text-align: right;\n",
       "    }\n",
       "</style>\n",
       "<table border=\"1\" class=\"dataframe\">\n",
       "  <thead>\n",
       "    <tr style=\"text-align: right;\">\n",
       "      <th></th>\n",
       "      <th>ProductId</th>\n",
       "      <th>DrawNumber</th>\n",
       "      <th>DrawDate</th>\n",
       "      <th>PrimaryNumbers</th>\n",
       "      <th>SecondaryNumbers</th>\n",
       "      <th>TicketNumbers</th>\n",
       "      <th>Dividends</th>\n",
       "    </tr>\n",
       "  </thead>\n",
       "  <tbody>\n",
       "    <tr>\n",
       "      <th>0</th>\n",
       "      <td>MonWedLotto</td>\n",
       "      <td>4061</td>\n",
       "      <td>2021-03-17T00:00:00</td>\n",
       "      <td>[38, 22, 35, 24, 7, 4]</td>\n",
       "      <td>[31, 1]</td>\n",
       "      <td>None</td>\n",
       "      <td>[{'Division': 1, 'BlocNumberOfWinners': 1, 'Bl...</td>\n",
       "    </tr>\n",
       "    <tr>\n",
       "      <th>1</th>\n",
       "      <td>MonWedLotto</td>\n",
       "      <td>4060</td>\n",
       "      <td>2021-03-15T00:00:00</td>\n",
       "      <td>[21, 45, 44, 24, 1, 16]</td>\n",
       "      <td>[29, 36]</td>\n",
       "      <td>None</td>\n",
       "      <td>[{'Division': 1, 'BlocNumberOfWinners': 0, 'Bl...</td>\n",
       "    </tr>\n",
       "    <tr>\n",
       "      <th>2</th>\n",
       "      <td>MonWedLotto</td>\n",
       "      <td>4059</td>\n",
       "      <td>2021-03-10T00:00:00</td>\n",
       "      <td>[6, 42, 26, 30, 8, 25]</td>\n",
       "      <td>[36, 31]</td>\n",
       "      <td>None</td>\n",
       "      <td>[{'Division': 1, 'BlocNumberOfWinners': 0, 'Bl...</td>\n",
       "    </tr>\n",
       "    <tr>\n",
       "      <th>3</th>\n",
       "      <td>MonWedLotto</td>\n",
       "      <td>4058</td>\n",
       "      <td>2021-03-08T00:00:00</td>\n",
       "      <td>[9, 27, 6, 43, 21, 19]</td>\n",
       "      <td>[24, 10]</td>\n",
       "      <td>None</td>\n",
       "      <td>[{'Division': 1, 'BlocNumberOfWinners': 0, 'Bl...</td>\n",
       "    </tr>\n",
       "    <tr>\n",
       "      <th>4</th>\n",
       "      <td>MonWedLotto</td>\n",
       "      <td>4057</td>\n",
       "      <td>2021-03-03T00:00:00</td>\n",
       "      <td>[24, 42, 7, 40, 36, 25]</td>\n",
       "      <td>[44, 15]</td>\n",
       "      <td>None</td>\n",
       "      <td>[{'Division': 1, 'BlocNumberOfWinners': 0, 'Bl...</td>\n",
       "    </tr>\n",
       "    <tr>\n",
       "      <th>5</th>\n",
       "      <td>MonWedLotto</td>\n",
       "      <td>4056</td>\n",
       "      <td>2021-03-01T00:00:00</td>\n",
       "      <td>[11, 10, 45, 44, 21, 20]</td>\n",
       "      <td>[5, 24]</td>\n",
       "      <td>None</td>\n",
       "      <td>[{'Division': 1, 'BlocNumberOfWinners': 1, 'Bl...</td>\n",
       "    </tr>\n",
       "    <tr>\n",
       "      <th>6</th>\n",
       "      <td>MonWedLotto</td>\n",
       "      <td>4055</td>\n",
       "      <td>2021-02-24T00:00:00</td>\n",
       "      <td>[45, 44, 40, 17, 16, 29]</td>\n",
       "      <td>[13, 21]</td>\n",
       "      <td>None</td>\n",
       "      <td>[{'Division': 1, 'BlocNumberOfWinners': 0, 'Bl...</td>\n",
       "    </tr>\n",
       "  </tbody>\n",
       "</table>\n",
       "</div>"
      ],
      "text/plain": [
       "     ProductId  DrawNumber             DrawDate            PrimaryNumbers  \\\n",
       "0  MonWedLotto        4061  2021-03-17T00:00:00    [38, 22, 35, 24, 7, 4]   \n",
       "1  MonWedLotto        4060  2021-03-15T00:00:00   [21, 45, 44, 24, 1, 16]   \n",
       "2  MonWedLotto        4059  2021-03-10T00:00:00    [6, 42, 26, 30, 8, 25]   \n",
       "3  MonWedLotto        4058  2021-03-08T00:00:00    [9, 27, 6, 43, 21, 19]   \n",
       "4  MonWedLotto        4057  2021-03-03T00:00:00   [24, 42, 7, 40, 36, 25]   \n",
       "5  MonWedLotto        4056  2021-03-01T00:00:00  [11, 10, 45, 44, 21, 20]   \n",
       "6  MonWedLotto        4055  2021-02-24T00:00:00  [45, 44, 40, 17, 16, 29]   \n",
       "\n",
       "  SecondaryNumbers TicketNumbers  \\\n",
       "0          [31, 1]          None   \n",
       "1         [29, 36]          None   \n",
       "2         [36, 31]          None   \n",
       "3         [24, 10]          None   \n",
       "4         [44, 15]          None   \n",
       "5          [5, 24]          None   \n",
       "6         [13, 21]          None   \n",
       "\n",
       "                                           Dividends  \n",
       "0  [{'Division': 1, 'BlocNumberOfWinners': 1, 'Bl...  \n",
       "1  [{'Division': 1, 'BlocNumberOfWinners': 0, 'Bl...  \n",
       "2  [{'Division': 1, 'BlocNumberOfWinners': 0, 'Bl...  \n",
       "3  [{'Division': 1, 'BlocNumberOfWinners': 0, 'Bl...  \n",
       "4  [{'Division': 1, 'BlocNumberOfWinners': 0, 'Bl...  \n",
       "5  [{'Division': 1, 'BlocNumberOfWinners': 1, 'Bl...  \n",
       "6  [{'Division': 1, 'BlocNumberOfWinners': 0, 'Bl...  "
      ]
     },
     "execution_count": 393,
     "metadata": {},
     "output_type": "execute_result"
    }
   ],
   "source": [
    "wed_data"
   ]
  },
  {
   "cell_type": "code",
   "execution_count": 296,
   "id": "political-david",
   "metadata": {},
   "outputs": [],
   "source": [
    "recent = wed_data['DrawDate'][0]\n",
    "a = pd.to_datetime(recent)"
   ]
  },
  {
   "cell_type": "code",
   "execution_count": 297,
   "id": "italic-richardson",
   "metadata": {},
   "outputs": [
    {
     "data": {
      "text/plain": [
       "Timestamp('2001-12-12 09:01:00')"
      ]
     },
     "execution_count": 297,
     "metadata": {},
     "output_type": "execute_result"
    }
   ],
   "source": [
    "a + pd.DateOffset(7)"
   ]
  },
  {
   "cell_type": "code",
   "execution_count": null,
   "id": "imperial-plain",
   "metadata": {},
   "outputs": [],
   "source": []
  },
  {
   "cell_type": "code",
   "execution_count": 369,
   "id": "brown-austin",
   "metadata": {},
   "outputs": [],
   "source": [
    "testing = {\"Draws\":[],\"ErrorInfo\": None,\"Success\":True}"
   ]
  },
  {
   "cell_type": "code",
   "execution_count": 384,
   "id": "dynamic-seeking",
   "metadata": {},
   "outputs": [
    {
     "data": {
      "text/plain": [
       "0"
      ]
     },
     "execution_count": 384,
     "metadata": {},
     "output_type": "execute_result"
    }
   ],
   "source": [
    "len(testing['Draws'])"
   ]
  },
  {
   "cell_type": "code",
   "execution_count": null,
   "id": "invisible-details",
   "metadata": {},
   "outputs": [],
   "source": []
  },
  {
   "cell_type": "code",
   "execution_count": null,
   "id": "chronic-ballet",
   "metadata": {},
   "outputs": [],
   "source": []
  },
  {
   "cell_type": "code",
   "execution_count": 307,
   "id": "third-warren",
   "metadata": {},
   "outputs": [],
   "source": [
    "r = requests.post(url, json = json)\n",
    "json_response = r.json()\n",
    "repository = json_response"
   ]
  },
  {
   "cell_type": "code",
   "execution_count": 308,
   "id": "delayed-green",
   "metadata": {},
   "outputs": [
    {
     "data": {
      "text/plain": [
       "{'Draws': None,\n",
       " 'ErrorInfo': {'SystemId': 200,\n",
       "  'ErrorNo': 54006,\n",
       "  'DisplayMessage': 'Date range exceeds the 90 days limit.',\n",
       "  'ContactSupport': False,\n",
       "  'SupportErrorReference': '200-54006'},\n",
       " 'Success': False}"
      ]
     },
     "execution_count": 308,
     "metadata": {},
     "output_type": "execute_result"
    }
   ],
   "source": [
    "repository"
   ]
  },
  {
   "cell_type": "code",
   "execution_count": 170,
   "id": "conceptual-accommodation",
   "metadata": {},
   "outputs": [
    {
     "data": {
      "text/plain": [
       "5"
      ]
     },
     "execution_count": 170,
     "metadata": {},
     "output_type": "execute_result"
    }
   ],
   "source": [
    "len(repository['ErrorInfo'])"
   ]
  },
  {
   "cell_type": "code",
   "execution_count": null,
   "id": "following-crisis",
   "metadata": {},
   "outputs": [],
   "source": []
  }
 ],
 "metadata": {
  "kernelspec": {
   "display_name": "Python 3",
   "language": "python",
   "name": "python3"
  },
  "language_info": {
   "codemirror_mode": {
    "name": "ipython",
    "version": 3
   },
   "file_extension": ".py",
   "mimetype": "text/x-python",
   "name": "python",
   "nbconvert_exporter": "python",
   "pygments_lexer": "ipython3",
   "version": "3.9.2"
  }
 },
 "nbformat": 4,
 "nbformat_minor": 5
}
